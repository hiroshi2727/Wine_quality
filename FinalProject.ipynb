{
 "cells": [
  {
   "cell_type": "markdown",
   "metadata": {},
   "source": [
    "# COGS 108 - Final Project"
   ]
  },
  {
   "cell_type": "markdown",
   "metadata": {},
   "source": [
    "## Introduction"
   ]
  },
  {
   "cell_type": "markdown",
   "metadata": {},
   "source": [
    "### Research Question\n"
   ]
  },
  {
   "cell_type": "markdown",
   "metadata": {},
   "source": [
    "Is it the qualities of a wine that make it good, or is the rating system of wines more subjective? In essence, is there any correlation between the subjective ratings and objective qualities of a wine?"
   ]
  },
  {
   "cell_type": "markdown",
   "metadata": {},
   "source": [
    "### Hypothesis\n"
   ]
  },
  {
   "cell_type": "markdown",
   "metadata": {},
   "source": [
    "Our main hypothesis would be that rating wines is subjective, so predicting a wines quality is based more on sentiment than the specific qualities of the wine itself, like alcohol percentage, acidity, etc."
   ]
  },
  {
   "cell_type": "markdown",
   "metadata": {},
   "source": [
    "### Datasets"
   ]
  },
  {
   "cell_type": "markdown",
   "metadata": {},
   "source": [
    "We are using the following datasets:\n",
    "\n",
    "- Wine Quality Datasets \n",
    "    - Source: P. Cortez, A. Cerdeira, F. Almeida, T. Matos and J. Reis. \n",
    "    Modeling wine preferences by data mining from physicochemical properties. In Decision Support Systems, Elsevier, 47(4):547-553, 2009.\n",
    "    - Dataset Name: winequality_red.csv\n",
    "    - Link to the dataset: https://archive.ics.uci.edu/ml/datasets/wine+quality\n",
    "    - Number of observations: 1599\n",
    "    - This data set outlines the qualities and qualitative assessment of red wines based on 11 physicochemical characteristics.\n",
    "    - Dataset Name: winequality_white.csv\n",
    "    - Link to the dataset: https://archive.ics.uci.edu/ml/datasets/wine+quality\n",
    "    - Number of observations: 4898\n",
    "    - This data set outlines the qualities and qualitative assessment of white wines based on 11 physicochemical characteristics.\n",
    "\n",
    "\n",
    "- Wine Review Datasets\n",
    "    - Dataset Name: winemag-data_first150k.csv\n",
    "    - Link to the dataset: https://www.kaggle.com/zynicide/wine-reviews\n",
    "    - Number of observations: 150000\n",
    "    - This dataset contains numerous reviews of various wine brands and types from the website WineEnthusiast\n",
    "\n",
    "We plan to merge these numerical data sets together by including red or white as a characteristic when training our program to predict wine quality based on these characteristics. For the review dataset, we shall use a TFIDF training model on the written review data."
   ]
  },
  {
   "cell_type": "markdown",
   "metadata": {},
   "source": [
    "### Background "
   ]
  },
  {
   "cell_type": "markdown",
   "metadata": {},
   "source": [
    " Data analysis is useful for finding the quantitative elements which contribute to the quality of wine taste. Though it is hard to detect the tiny difference of taste by human tongue, the data analysis makes it possible to quantify and visualize these characteristics so that it helps us select a better wine without need for a need for a professional such as a sommelier. \n",
    "\tDistinguishing wine quality is not a easy job. As mentioned in  “Wine tasting terms” (cawineclub.com), it demands and understanding of many technical terms and professionalism, which makes difficult for beginners to distinguish the quality of\n",
    "    wine during tasting. For example, a few of the most important elements to judge the taste are acidity, alcohol, and chlorides. However, most people would find it difficult to distinguish these qualities at an accurate level.\n",
    "\tThere are several prior studies which approach the quantification of taste by machine learning. For example, the research of Zachary Bushman in “Using machine learning to detect the flaw of beer” proved the possibility of sensory quality control by machine learning. Our research is to apply this similar method to detecting the quality of different wines instead.\n",
    "\n",
    "\n",
    "References (include links): \n",
    "\n",
    "-https://www.cawineclub.com/wine-tasting-terms \n",
    "\n",
    "-https://www.gastrograph.com/blogs/gastronexus/flaw-detection-in-beer.html\n"
   ]
  },
  {
   "cell_type": "markdown",
   "metadata": {},
   "source": [
    "### Proposed Methods"
   ]
  },
  {
   "cell_type": "markdown",
   "metadata": {},
   "source": [
    "\n",
    "For our data, the files are relatively clean already; very little in the way of aggregating would be required to make this set trainable, although we plan to remove certain outliers to help form our regression. However, we plan to model the quality aspect using binary models, so since most of the wines are scored from 4-8, we plan on scaling the score quality to be 0 or 1 so the data is easier to fit. For the second dataset, we plan to use a TF-IDF sentiment analysis model to train off the data set, so we likely will remove any columns besides the ones we train the decision tree classifier off of.\n",
    "\n",
    "\n",
    "For data analysis, we plan to create regression models to predict the quality value of the wine based on specific characteristics for the numerical quality dataset, and use TFIDF analysis for the review dataset.\n",
    "\n",
    "\n",
    "We plan to juxtapose the relative accuracies of both models to predict the \"goodness\" of a wine. Based on whichever is more accurate, we shall pick and explain the results accordingly.\n",
    "\n",
    "Packages we plan to use:\n",
    "- matplotlib\n",
    "- pandas\n",
    "- scikit-learn\n",
    "- numpy"
   ]
  },
  {
   "cell_type": "code",
   "execution_count": 2,
   "metadata": {},
   "outputs": [
    {
     "name": "stderr",
     "output_type": "stream",
     "text": [
      "C:\\Users\\sylry\\Anaconda3\\lib\\site-packages\\statsmodels\\compat\\pandas.py:56: FutureWarning: The pandas.core.datetools module is deprecated and will be removed in a future version. Please use the pandas.tseries module instead.\n",
      "  from pandas.core import datetools\n"
     ]
    }
   ],
   "source": [
    "import pandas as pd\n",
    "import matplotlib.pyplot as plt\n",
    "import numpy as np\n",
    "import sklearn as skl\n",
    "import patsy\n",
    "import seaborn as sns\n",
    "import statsmodels.api as sm\n",
    "import scipy\n",
    "import scipy.io as sio\n",
    "from sklearn.model_selection import GridSearchCV\n",
    "from sklearn import svm\n",
    "from sklearn.tree import DecisionTreeClassifier\n",
    "from sklearn.feature_extraction.text import CountVectorizer, TfidfVectorizer\n",
    "from sklearn.metrics import classification_report, precision_recall_fscore_support\n",
    "from sklearn.utils import shuffle\n",
    "from sklearn.tree import DecisionTreeClassifier\n",
    "import nltk\n",
    "from nltk.tokenize import word_tokenize\n",
    "from nltk.corpus import stopwords"
   ]
  },
  {
   "cell_type": "markdown",
   "metadata": {},
   "source": [
    "## Data Cleaning / Pre-processing"
   ]
  },
  {
   "cell_type": "code",
   "execution_count": 3,
   "metadata": {},
   "outputs": [
    {
     "data": {
      "text/html": [
       "<div>\n",
       "<style>\n",
       "    .dataframe thead tr:only-child th {\n",
       "        text-align: right;\n",
       "    }\n",
       "\n",
       "    .dataframe thead th {\n",
       "        text-align: left;\n",
       "    }\n",
       "\n",
       "    .dataframe tbody tr th {\n",
       "        vertical-align: top;\n",
       "    }\n",
       "</style>\n",
       "<table border=\"1\" class=\"dataframe\">\n",
       "  <thead>\n",
       "    <tr style=\"text-align: right;\">\n",
       "      <th></th>\n",
       "      <th>fixed acidity</th>\n",
       "      <th>volatile acidity</th>\n",
       "      <th>citric acid</th>\n",
       "      <th>residual sugar</th>\n",
       "      <th>chlorides</th>\n",
       "      <th>free sulfur dioxide</th>\n",
       "      <th>total sulfur dioxide</th>\n",
       "      <th>density</th>\n",
       "      <th>pH</th>\n",
       "      <th>sulphates</th>\n",
       "      <th>alcohol</th>\n",
       "      <th>quality</th>\n",
       "    </tr>\n",
       "  </thead>\n",
       "  <tbody>\n",
       "    <tr>\n",
       "      <th>0</th>\n",
       "      <td>7.4</td>\n",
       "      <td>0.70</td>\n",
       "      <td>0.00</td>\n",
       "      <td>1.9</td>\n",
       "      <td>0.076</td>\n",
       "      <td>11.0</td>\n",
       "      <td>34.0</td>\n",
       "      <td>0.9978</td>\n",
       "      <td>3.51</td>\n",
       "      <td>0.56</td>\n",
       "      <td>9.4</td>\n",
       "      <td>5</td>\n",
       "    </tr>\n",
       "    <tr>\n",
       "      <th>1</th>\n",
       "      <td>7.8</td>\n",
       "      <td>0.88</td>\n",
       "      <td>0.00</td>\n",
       "      <td>2.6</td>\n",
       "      <td>0.098</td>\n",
       "      <td>25.0</td>\n",
       "      <td>67.0</td>\n",
       "      <td>0.9968</td>\n",
       "      <td>3.20</td>\n",
       "      <td>0.68</td>\n",
       "      <td>9.8</td>\n",
       "      <td>5</td>\n",
       "    </tr>\n",
       "    <tr>\n",
       "      <th>2</th>\n",
       "      <td>7.8</td>\n",
       "      <td>0.76</td>\n",
       "      <td>0.04</td>\n",
       "      <td>2.3</td>\n",
       "      <td>0.092</td>\n",
       "      <td>15.0</td>\n",
       "      <td>54.0</td>\n",
       "      <td>0.9970</td>\n",
       "      <td>3.26</td>\n",
       "      <td>0.65</td>\n",
       "      <td>9.8</td>\n",
       "      <td>5</td>\n",
       "    </tr>\n",
       "    <tr>\n",
       "      <th>3</th>\n",
       "      <td>11.2</td>\n",
       "      <td>0.28</td>\n",
       "      <td>0.56</td>\n",
       "      <td>1.9</td>\n",
       "      <td>0.075</td>\n",
       "      <td>17.0</td>\n",
       "      <td>60.0</td>\n",
       "      <td>0.9980</td>\n",
       "      <td>3.16</td>\n",
       "      <td>0.58</td>\n",
       "      <td>9.8</td>\n",
       "      <td>6</td>\n",
       "    </tr>\n",
       "    <tr>\n",
       "      <th>4</th>\n",
       "      <td>7.4</td>\n",
       "      <td>0.70</td>\n",
       "      <td>0.00</td>\n",
       "      <td>1.9</td>\n",
       "      <td>0.076</td>\n",
       "      <td>11.0</td>\n",
       "      <td>34.0</td>\n",
       "      <td>0.9978</td>\n",
       "      <td>3.51</td>\n",
       "      <td>0.56</td>\n",
       "      <td>9.4</td>\n",
       "      <td>5</td>\n",
       "    </tr>\n",
       "    <tr>\n",
       "      <th>5</th>\n",
       "      <td>7.4</td>\n",
       "      <td>0.66</td>\n",
       "      <td>0.00</td>\n",
       "      <td>1.8</td>\n",
       "      <td>0.075</td>\n",
       "      <td>13.0</td>\n",
       "      <td>40.0</td>\n",
       "      <td>0.9978</td>\n",
       "      <td>3.51</td>\n",
       "      <td>0.56</td>\n",
       "      <td>9.4</td>\n",
       "      <td>5</td>\n",
       "    </tr>\n",
       "    <tr>\n",
       "      <th>6</th>\n",
       "      <td>7.9</td>\n",
       "      <td>0.60</td>\n",
       "      <td>0.06</td>\n",
       "      <td>1.6</td>\n",
       "      <td>0.069</td>\n",
       "      <td>15.0</td>\n",
       "      <td>59.0</td>\n",
       "      <td>0.9964</td>\n",
       "      <td>3.30</td>\n",
       "      <td>0.46</td>\n",
       "      <td>9.4</td>\n",
       "      <td>5</td>\n",
       "    </tr>\n",
       "    <tr>\n",
       "      <th>7</th>\n",
       "      <td>7.3</td>\n",
       "      <td>0.65</td>\n",
       "      <td>0.00</td>\n",
       "      <td>1.2</td>\n",
       "      <td>0.065</td>\n",
       "      <td>15.0</td>\n",
       "      <td>21.0</td>\n",
       "      <td>0.9946</td>\n",
       "      <td>3.39</td>\n",
       "      <td>0.47</td>\n",
       "      <td>10.0</td>\n",
       "      <td>7</td>\n",
       "    </tr>\n",
       "    <tr>\n",
       "      <th>8</th>\n",
       "      <td>7.8</td>\n",
       "      <td>0.58</td>\n",
       "      <td>0.02</td>\n",
       "      <td>2.0</td>\n",
       "      <td>0.073</td>\n",
       "      <td>9.0</td>\n",
       "      <td>18.0</td>\n",
       "      <td>0.9968</td>\n",
       "      <td>3.36</td>\n",
       "      <td>0.57</td>\n",
       "      <td>9.5</td>\n",
       "      <td>7</td>\n",
       "    </tr>\n",
       "    <tr>\n",
       "      <th>9</th>\n",
       "      <td>7.5</td>\n",
       "      <td>0.50</td>\n",
       "      <td>0.36</td>\n",
       "      <td>6.1</td>\n",
       "      <td>0.071</td>\n",
       "      <td>17.0</td>\n",
       "      <td>102.0</td>\n",
       "      <td>0.9978</td>\n",
       "      <td>3.35</td>\n",
       "      <td>0.80</td>\n",
       "      <td>10.5</td>\n",
       "      <td>5</td>\n",
       "    </tr>\n",
       "  </tbody>\n",
       "</table>\n",
       "</div>"
      ],
      "text/plain": [
       "   fixed acidity  volatile acidity  citric acid  residual sugar  chlorides  \\\n",
       "0            7.4              0.70         0.00             1.9      0.076   \n",
       "1            7.8              0.88         0.00             2.6      0.098   \n",
       "2            7.8              0.76         0.04             2.3      0.092   \n",
       "3           11.2              0.28         0.56             1.9      0.075   \n",
       "4            7.4              0.70         0.00             1.9      0.076   \n",
       "5            7.4              0.66         0.00             1.8      0.075   \n",
       "6            7.9              0.60         0.06             1.6      0.069   \n",
       "7            7.3              0.65         0.00             1.2      0.065   \n",
       "8            7.8              0.58         0.02             2.0      0.073   \n",
       "9            7.5              0.50         0.36             6.1      0.071   \n",
       "\n",
       "   free sulfur dioxide  total sulfur dioxide  density    pH  sulphates  \\\n",
       "0                 11.0                  34.0   0.9978  3.51       0.56   \n",
       "1                 25.0                  67.0   0.9968  3.20       0.68   \n",
       "2                 15.0                  54.0   0.9970  3.26       0.65   \n",
       "3                 17.0                  60.0   0.9980  3.16       0.58   \n",
       "4                 11.0                  34.0   0.9978  3.51       0.56   \n",
       "5                 13.0                  40.0   0.9978  3.51       0.56   \n",
       "6                 15.0                  59.0   0.9964  3.30       0.46   \n",
       "7                 15.0                  21.0   0.9946  3.39       0.47   \n",
       "8                  9.0                  18.0   0.9968  3.36       0.57   \n",
       "9                 17.0                 102.0   0.9978  3.35       0.80   \n",
       "\n",
       "   alcohol  quality  \n",
       "0      9.4        5  \n",
       "1      9.8        5  \n",
       "2      9.8        5  \n",
       "3      9.8        6  \n",
       "4      9.4        5  \n",
       "5      9.4        5  \n",
       "6      9.4        5  \n",
       "7     10.0        7  \n",
       "8      9.5        7  \n",
       "9     10.5        5  "
      ]
     },
     "execution_count": 3,
     "metadata": {},
     "output_type": "execute_result"
    }
   ],
   "source": [
    "#read in our wine quality datasets using pandas, clean by separating column vals based on \";\" delimiter\n",
    "dfred = pd.read_csv(\"winequality-red.csv\",sep=\";\")\n",
    "dfwhite = pd.read_csv(\"winequality-white.csv\",sep=\";\")\n",
    "\n",
    "#used concat to merge white and red wine datasets regardless of wine color\n",
    "dfquals = pd.concat([dfred,dfwhite])\n",
    "dfquals.head(10)"
   ]
  },
  {
   "cell_type": "code",
   "execution_count": 4,
   "metadata": {},
   "outputs": [
    {
     "data": {
      "text/html": [
       "<div>\n",
       "<style>\n",
       "    .dataframe thead tr:only-child th {\n",
       "        text-align: right;\n",
       "    }\n",
       "\n",
       "    .dataframe thead th {\n",
       "        text-align: left;\n",
       "    }\n",
       "\n",
       "    .dataframe tbody tr th {\n",
       "        vertical-align: top;\n",
       "    }\n",
       "</style>\n",
       "<table border=\"1\" class=\"dataframe\">\n",
       "  <thead>\n",
       "    <tr style=\"text-align: right;\">\n",
       "      <th></th>\n",
       "      <th>fixed acidity</th>\n",
       "      <th>volatile acidity</th>\n",
       "      <th>citric acid</th>\n",
       "      <th>residual sugar</th>\n",
       "      <th>chlorides</th>\n",
       "      <th>free sulfur dioxide</th>\n",
       "      <th>total sulfur dioxide</th>\n",
       "      <th>density</th>\n",
       "      <th>pH</th>\n",
       "      <th>sulphates</th>\n",
       "      <th>alcohol</th>\n",
       "      <th>quality</th>\n",
       "      <th>val</th>\n",
       "    </tr>\n",
       "  </thead>\n",
       "  <tbody>\n",
       "    <tr>\n",
       "      <th>0</th>\n",
       "      <td>7.4</td>\n",
       "      <td>0.70</td>\n",
       "      <td>0.00</td>\n",
       "      <td>1.9</td>\n",
       "      <td>0.076</td>\n",
       "      <td>11.0</td>\n",
       "      <td>34.0</td>\n",
       "      <td>0.9978</td>\n",
       "      <td>3.51</td>\n",
       "      <td>0.56</td>\n",
       "      <td>9.4</td>\n",
       "      <td>5</td>\n",
       "      <td>0</td>\n",
       "    </tr>\n",
       "    <tr>\n",
       "      <th>1</th>\n",
       "      <td>7.8</td>\n",
       "      <td>0.88</td>\n",
       "      <td>0.00</td>\n",
       "      <td>2.6</td>\n",
       "      <td>0.098</td>\n",
       "      <td>25.0</td>\n",
       "      <td>67.0</td>\n",
       "      <td>0.9968</td>\n",
       "      <td>3.20</td>\n",
       "      <td>0.68</td>\n",
       "      <td>9.8</td>\n",
       "      <td>5</td>\n",
       "      <td>0</td>\n",
       "    </tr>\n",
       "    <tr>\n",
       "      <th>2</th>\n",
       "      <td>7.8</td>\n",
       "      <td>0.76</td>\n",
       "      <td>0.04</td>\n",
       "      <td>2.3</td>\n",
       "      <td>0.092</td>\n",
       "      <td>15.0</td>\n",
       "      <td>54.0</td>\n",
       "      <td>0.9970</td>\n",
       "      <td>3.26</td>\n",
       "      <td>0.65</td>\n",
       "      <td>9.8</td>\n",
       "      <td>5</td>\n",
       "      <td>0</td>\n",
       "    </tr>\n",
       "    <tr>\n",
       "      <th>3</th>\n",
       "      <td>11.2</td>\n",
       "      <td>0.28</td>\n",
       "      <td>0.56</td>\n",
       "      <td>1.9</td>\n",
       "      <td>0.075</td>\n",
       "      <td>17.0</td>\n",
       "      <td>60.0</td>\n",
       "      <td>0.9980</td>\n",
       "      <td>3.16</td>\n",
       "      <td>0.58</td>\n",
       "      <td>9.8</td>\n",
       "      <td>6</td>\n",
       "      <td>1</td>\n",
       "    </tr>\n",
       "    <tr>\n",
       "      <th>4</th>\n",
       "      <td>7.4</td>\n",
       "      <td>0.70</td>\n",
       "      <td>0.00</td>\n",
       "      <td>1.9</td>\n",
       "      <td>0.076</td>\n",
       "      <td>11.0</td>\n",
       "      <td>34.0</td>\n",
       "      <td>0.9978</td>\n",
       "      <td>3.51</td>\n",
       "      <td>0.56</td>\n",
       "      <td>9.4</td>\n",
       "      <td>5</td>\n",
       "      <td>0</td>\n",
       "    </tr>\n",
       "    <tr>\n",
       "      <th>5</th>\n",
       "      <td>7.4</td>\n",
       "      <td>0.66</td>\n",
       "      <td>0.00</td>\n",
       "      <td>1.8</td>\n",
       "      <td>0.075</td>\n",
       "      <td>13.0</td>\n",
       "      <td>40.0</td>\n",
       "      <td>0.9978</td>\n",
       "      <td>3.51</td>\n",
       "      <td>0.56</td>\n",
       "      <td>9.4</td>\n",
       "      <td>5</td>\n",
       "      <td>0</td>\n",
       "    </tr>\n",
       "    <tr>\n",
       "      <th>6</th>\n",
       "      <td>7.9</td>\n",
       "      <td>0.60</td>\n",
       "      <td>0.06</td>\n",
       "      <td>1.6</td>\n",
       "      <td>0.069</td>\n",
       "      <td>15.0</td>\n",
       "      <td>59.0</td>\n",
       "      <td>0.9964</td>\n",
       "      <td>3.30</td>\n",
       "      <td>0.46</td>\n",
       "      <td>9.4</td>\n",
       "      <td>5</td>\n",
       "      <td>0</td>\n",
       "    </tr>\n",
       "    <tr>\n",
       "      <th>7</th>\n",
       "      <td>7.3</td>\n",
       "      <td>0.65</td>\n",
       "      <td>0.00</td>\n",
       "      <td>1.2</td>\n",
       "      <td>0.065</td>\n",
       "      <td>15.0</td>\n",
       "      <td>21.0</td>\n",
       "      <td>0.9946</td>\n",
       "      <td>3.39</td>\n",
       "      <td>0.47</td>\n",
       "      <td>10.0</td>\n",
       "      <td>7</td>\n",
       "      <td>1</td>\n",
       "    </tr>\n",
       "    <tr>\n",
       "      <th>8</th>\n",
       "      <td>7.8</td>\n",
       "      <td>0.58</td>\n",
       "      <td>0.02</td>\n",
       "      <td>2.0</td>\n",
       "      <td>0.073</td>\n",
       "      <td>9.0</td>\n",
       "      <td>18.0</td>\n",
       "      <td>0.9968</td>\n",
       "      <td>3.36</td>\n",
       "      <td>0.57</td>\n",
       "      <td>9.5</td>\n",
       "      <td>7</td>\n",
       "      <td>1</td>\n",
       "    </tr>\n",
       "    <tr>\n",
       "      <th>9</th>\n",
       "      <td>7.5</td>\n",
       "      <td>0.50</td>\n",
       "      <td>0.36</td>\n",
       "      <td>6.1</td>\n",
       "      <td>0.071</td>\n",
       "      <td>17.0</td>\n",
       "      <td>102.0</td>\n",
       "      <td>0.9978</td>\n",
       "      <td>3.35</td>\n",
       "      <td>0.80</td>\n",
       "      <td>10.5</td>\n",
       "      <td>5</td>\n",
       "      <td>0</td>\n",
       "    </tr>\n",
       "  </tbody>\n",
       "</table>\n",
       "</div>"
      ],
      "text/plain": [
       "   fixed acidity  volatile acidity  citric acid  residual sugar  chlorides  \\\n",
       "0            7.4              0.70         0.00             1.9      0.076   \n",
       "1            7.8              0.88         0.00             2.6      0.098   \n",
       "2            7.8              0.76         0.04             2.3      0.092   \n",
       "3           11.2              0.28         0.56             1.9      0.075   \n",
       "4            7.4              0.70         0.00             1.9      0.076   \n",
       "5            7.4              0.66         0.00             1.8      0.075   \n",
       "6            7.9              0.60         0.06             1.6      0.069   \n",
       "7            7.3              0.65         0.00             1.2      0.065   \n",
       "8            7.8              0.58         0.02             2.0      0.073   \n",
       "9            7.5              0.50         0.36             6.1      0.071   \n",
       "\n",
       "   free sulfur dioxide  total sulfur dioxide  density    pH  sulphates  \\\n",
       "0                 11.0                  34.0   0.9978  3.51       0.56   \n",
       "1                 25.0                  67.0   0.9968  3.20       0.68   \n",
       "2                 15.0                  54.0   0.9970  3.26       0.65   \n",
       "3                 17.0                  60.0   0.9980  3.16       0.58   \n",
       "4                 11.0                  34.0   0.9978  3.51       0.56   \n",
       "5                 13.0                  40.0   0.9978  3.51       0.56   \n",
       "6                 15.0                  59.0   0.9964  3.30       0.46   \n",
       "7                 15.0                  21.0   0.9946  3.39       0.47   \n",
       "8                  9.0                  18.0   0.9968  3.36       0.57   \n",
       "9                 17.0                 102.0   0.9978  3.35       0.80   \n",
       "\n",
       "   alcohol  quality  val  \n",
       "0      9.4        5    0  \n",
       "1      9.8        5    0  \n",
       "2      9.8        5    0  \n",
       "3      9.8        6    1  \n",
       "4      9.4        5    0  \n",
       "5      9.4        5    0  \n",
       "6      9.4        5    0  \n",
       "7     10.0        7    1  \n",
       "8      9.5        7    1  \n",
       "9     10.5        5    0  "
      ]
     },
     "execution_count": 4,
     "metadata": {},
     "output_type": "execute_result"
    }
   ],
   "source": [
    "#use method to make quality a binary model\n",
    "def binary(label):\n",
    "    if label >=6 :\n",
    "        return 1\n",
    "    elif label < 6:\n",
    "        return 0\n",
    "    else:\n",
    "        return label\n",
    "    \n",
    "#applies method so every quality 6 and above is good (1) while below is bad (0)\n",
    "dfquals[\"val\"] = dfquals.quality.apply(binary)\n",
    "#arbitrary choosing of \"good\" or \"bad\" cutoff might affect model outcome\n",
    "\n",
    "dfquals.head(10)"
   ]
  },
  {
   "cell_type": "code",
   "execution_count": 5,
   "metadata": {},
   "outputs": [
    {
     "data": {
      "text/html": [
       "<div>\n",
       "<style>\n",
       "    .dataframe thead tr:only-child th {\n",
       "        text-align: right;\n",
       "    }\n",
       "\n",
       "    .dataframe thead th {\n",
       "        text-align: left;\n",
       "    }\n",
       "\n",
       "    .dataframe tbody tr th {\n",
       "        vertical-align: top;\n",
       "    }\n",
       "</style>\n",
       "<table border=\"1\" class=\"dataframe\">\n",
       "  <thead>\n",
       "    <tr style=\"text-align: right;\">\n",
       "      <th></th>\n",
       "      <th>description</th>\n",
       "      <th>points</th>\n",
       "      <th>val</th>\n",
       "    </tr>\n",
       "  </thead>\n",
       "  <tbody>\n",
       "    <tr>\n",
       "      <th>0</th>\n",
       "      <td>This tremendous 100% varietal wine hails from ...</td>\n",
       "      <td>96</td>\n",
       "      <td>1</td>\n",
       "    </tr>\n",
       "    <tr>\n",
       "      <th>1</th>\n",
       "      <td>Ripe aromas of fig, blackberry and cassis are ...</td>\n",
       "      <td>96</td>\n",
       "      <td>1</td>\n",
       "    </tr>\n",
       "    <tr>\n",
       "      <th>2</th>\n",
       "      <td>Mac Watson honors the memory of a wine once ma...</td>\n",
       "      <td>96</td>\n",
       "      <td>1</td>\n",
       "    </tr>\n",
       "    <tr>\n",
       "      <th>3</th>\n",
       "      <td>This spent 20 months in 30% new French oak, an...</td>\n",
       "      <td>96</td>\n",
       "      <td>1</td>\n",
       "    </tr>\n",
       "    <tr>\n",
       "      <th>4</th>\n",
       "      <td>This is the top wine from La Bégude, named aft...</td>\n",
       "      <td>95</td>\n",
       "      <td>1</td>\n",
       "    </tr>\n",
       "    <tr>\n",
       "      <th>5</th>\n",
       "      <td>Deep, dense and pure from the opening bell, th...</td>\n",
       "      <td>95</td>\n",
       "      <td>1</td>\n",
       "    </tr>\n",
       "    <tr>\n",
       "      <th>6</th>\n",
       "      <td>Slightly gritty black-fruit aromas include a s...</td>\n",
       "      <td>95</td>\n",
       "      <td>1</td>\n",
       "    </tr>\n",
       "    <tr>\n",
       "      <th>7</th>\n",
       "      <td>Lush cedary black-fruit aromas are luxe and of...</td>\n",
       "      <td>95</td>\n",
       "      <td>1</td>\n",
       "    </tr>\n",
       "    <tr>\n",
       "      <th>8</th>\n",
       "      <td>This re-named vineyard was formerly bottled as...</td>\n",
       "      <td>95</td>\n",
       "      <td>1</td>\n",
       "    </tr>\n",
       "    <tr>\n",
       "      <th>9</th>\n",
       "      <td>The producer sources from two blocks of the vi...</td>\n",
       "      <td>95</td>\n",
       "      <td>1</td>\n",
       "    </tr>\n",
       "  </tbody>\n",
       "</table>\n",
       "</div>"
      ],
      "text/plain": [
       "                                         description  points  val\n",
       "0  This tremendous 100% varietal wine hails from ...      96    1\n",
       "1  Ripe aromas of fig, blackberry and cassis are ...      96    1\n",
       "2  Mac Watson honors the memory of a wine once ma...      96    1\n",
       "3  This spent 20 months in 30% new French oak, an...      96    1\n",
       "4  This is the top wine from La Bégude, named aft...      95    1\n",
       "5  Deep, dense and pure from the opening bell, th...      95    1\n",
       "6  Slightly gritty black-fruit aromas include a s...      95    1\n",
       "7  Lush cedary black-fruit aromas are luxe and of...      95    1\n",
       "8  This re-named vineyard was formerly bottled as...      95    1\n",
       "9  The producer sources from two blocks of the vi...      95    1"
      ]
     },
     "execution_count": 5,
     "metadata": {},
     "output_type": "execute_result"
    }
   ],
   "source": [
    "#read in the wine review dataset, clean by droppin extra columns and mergign\n",
    "MR_df2_sub = pd.read_csv(\"winemag-data-130k-v2.csv\")\n",
    "MR_df1_sub = pd.read_csv('winemag-data_first150k.csv',dtype=str)\n",
    "\n",
    "#cleaned the review dataset by dropping all non-needed rows like reviewer name and location\n",
    "MR_df = pd.concat([MR_df1_sub,MR_df2_sub])\n",
    "MR_df = MR_df[[\"description\",\"points\"]]\n",
    "MR_df[\"points\"] = pd.to_numeric(MR_df.points)\n",
    "\n",
    "\n",
    "#method for quantifying review scores for review dataset\n",
    "def binary2(label):\n",
    "    if label > 88 :\n",
    "        return 1\n",
    "    elif label <= 88:\n",
    "        return 0\n",
    "    else:\n",
    "        return label\n",
    "    \n",
    "#apply method to make data quantification binary for training model\n",
    "MR_df[\"val\"] = MR_df.points.apply(binary2)\n",
    "#arbitrary choosing of \"good\" or \"bad\" cutoff might affect model outcome\n",
    "\n",
    "MR_df.head(10)"
   ]
  },
  {
   "cell_type": "markdown",
   "metadata": {},
   "source": [
    "## Data Visualization"
   ]
  },
  {
   "cell_type": "code",
   "execution_count": 6,
   "metadata": {},
   "outputs": [
    {
     "data": {
      "image/png": "[encoded data removed]",
      "text/plain": [
       "<matplotlib.figure.Figure at 0x2ce8e92def0>"
      ]
     },
     "metadata": {},
     "output_type": "display_data"
    }
   ],
   "source": [
    "#heat map to show correlation between different values in wine quality dataset\n",
    "f, ax = plt.subplots(figsize=(14, 10))\n",
    "qualcorr = dfquals.corr()\n",
    "sns.heatmap(qualcorr)\n",
    "plt.show()"
   ]
  },
  {
   "cell_type": "code",
   "execution_count": 7,
   "metadata": {},
   "outputs": [
    {
     "data": {
      "image/png": "[encoded data removed]",
      "text/plain": [
       "<matplotlib.figure.Figure at 0x2ce93d039e8>"
      ]
     },
     "metadata": {},
     "output_type": "display_data"
    },
    {
     "data": {
      "text/plain": [
       "(1782.757192123287, 0.0)"
      ]
     },
     "execution_count": 7,
     "metadata": {},
     "output_type": "execute_result"
    }
   ],
   "source": [
    "#distribution for review point values\n",
    "f, ax = plt.subplots(figsize=(14, 10))\n",
    "sns.distplot(MR_df.points)\n",
    "plt.show()\n",
    "stat, pval = scipy.stats.normaltest(MR_df.points)\n",
    "stat, pval"
   ]
  },
  {
   "cell_type": "markdown",
   "metadata": {},
   "source": [
    "The p-value from the normal test is 0 so we can conclude the wine review points data is not normally distributed."
   ]
  },
  {
   "cell_type": "markdown",
   "metadata": {},
   "source": [
    "## Data Analysis"
   ]
  },
  {
   "cell_type": "code",
   "execution_count": 8,
   "metadata": {
    "collapsed": true
   },
   "outputs": [],
   "source": [
    "#set up variables for analysis of 12 qualities data set in next cell\n",
    "num = (int)(len(dfquals)*0.8)\n",
    "dfquals = dfquals.drop([\"quality\"],axis=1)\n",
    "X_train = dfquals.as_matrix()[:num,:-1]\n",
    "Y_train = dfquals.as_matrix()[:num,-1]\n",
    "X_test = dfquals.as_matrix()[num:,:-1]\n",
    "Y_test = dfquals.as_matrix()[num:,-1]\n"
   ]
  },
  {
   "cell_type": "code",
   "execution_count": 9,
   "metadata": {
    "scrolled": true
   },
   "outputs": [
    {
     "name": "stdout",
     "output_type": "stream",
     "text": [
      "             precision    recall  f1-score   support\n",
      "\n",
      "        0.0       1.00      1.00      1.00      1985\n",
      "        1.0       1.00      1.00      1.00      3212\n",
      "\n",
      "avg / total       1.00      1.00      1.00      5197\n",
      "\n",
      "             precision    recall  f1-score   support\n",
      "\n",
      "        0.0       0.59      0.46      0.52       399\n",
      "        1.0       0.78      0.85      0.82       901\n",
      "\n",
      "avg / total       0.72      0.73      0.73      1300\n",
      "\n"
     ]
    }
   ],
   "source": [
    "#Training result and testing result of numerical dataset using decision tree classifier \n",
    "clf_tree = DecisionTreeClassifier(criterion='entropy')\n",
    "clf_tree.fit(X_train,Y_train)\n",
    "print(classification_report(Y_train, clf_tree.predict(X_train)))\n",
    "print(classification_report(Y_test, clf_tree.predict(X_test)))"
   ]
  },
  {
   "cell_type": "code",
   "execution_count": 10,
   "metadata": {
    "collapsed": true
   },
   "outputs": [],
   "source": [
    "#set up the training and testing data for the model\n",
    "MR_y = MR_df['val']\n",
    "num_training = int(len(MR_df)*0.8)\n",
    "num_testing = int(len(MR_df)*0.2)\n",
    "MR_train_y = MR_y[:num_training]\n",
    "MR_test_y = MR_y[num_training:]\n",
    "\n",
    "# create a TfidfVectorizer\n",
    "tfidf = TfidfVectorizer(sublinear_tf=True,analyzer='word',max_features=2000,tokenizer=word_tokenize)\n",
    "# transform the description of MR_df into vectors\n",
    "#MR_X = vectorizer.fit_transform\n",
    "MR_tfidf_X = tfidf.fit_transform(MR_df[\"description\"]).toarray()"
   ]
  },
  {
   "cell_type": "code",
   "execution_count": 11,
   "metadata": {
    "collapsed": true
   },
   "outputs": [],
   "source": [
    "# split the MR_tfidf_X and MR_y into training set and test set.\n",
    "MR_train_tfidf_X = MR_tfidf_X[:num_training]\n",
    "MR_train_tfidf_y = MR_y[:num_training]\n",
    "MR_test_tfidf_X = MR_tfidf_X[num_training:]\n",
    "MR_test_tfidf_y = MR_y[num_training:]\n",
    "\n",
    "# define train_SVM function which initializes SVM classifier and trains it\n",
    "def train_SVM(X, y):\n",
    "    # YOUR CODE HERE\n",
    "    clf = DecisionTreeClassifier(criterion='entropy')\n",
    "    clf.fit(X,y)\n",
    "    return clf"
   ]
  },
  {
   "cell_type": "code",
   "execution_count": 12,
   "metadata": {
    "collapsed": true
   },
   "outputs": [],
   "source": [
    "# train an SVM classifier\n",
    "MR_tfidf_clf = train_SVM(MR_train_tfidf_X,MR_train_tfidf_y)\n",
    "# predict\n",
    "MR_pred_train_tfidf_y = MR_tfidf_clf.predict(MR_train_tfidf_X)\n",
    "MR_pred_test_tfidf_y = MR_tfidf_clf.predict(MR_test_tfidf_X)"
   ]
  },
  {
   "cell_type": "code",
   "execution_count": 13,
   "metadata": {
    "scrolled": false
   },
   "outputs": [
    {
     "name": "stdout",
     "output_type": "stream",
     "text": [
      "             precision    recall  f1-score   support\n",
      "\n",
      "          0       1.00      1.00      1.00    129010\n",
      "          1       1.00      1.00      1.00     95710\n",
      "\n",
      "avg / total       1.00      1.00      1.00    224720\n",
      "\n",
      "             precision    recall  f1-score   support\n",
      "\n",
      "          0       0.82      0.85      0.83     29489\n",
      "          1       0.83      0.80      0.81     26692\n",
      "\n",
      "avg / total       0.82      0.82      0.82     56181\n",
      "\n"
     ]
    }
   ],
   "source": [
    "#Training result and testing result of wine review dataset using decision tree classifier\n",
    "clf = DecisionTreeClassifier(criterion='entropy')\n",
    "clf.fit(MR_train_tfidf_X,MR_train_tfidf_y)\n",
    "print(classification_report(MR_train_tfidf_y, MR_tfidf_clf.predict(MR_train_tfidf_X)))\n",
    "print(classification_report(MR_test_tfidf_y, MR_tfidf_clf.predict(MR_test_tfidf_X)))"
   ]
  },
  {
   "cell_type": "markdown",
   "metadata": {},
   "source": [
    "## Results"
   ]
  },
  {
   "cell_type": "markdown",
   "metadata": {
    "collapsed": true
   },
   "source": [
    "After cleaning our two separate datasets, the numerical wine quality dataset and the sentiment based review dataset, we could quickly visualize the data to help us better understand the relative relationships within it. For the numerical dataset, we mapped the correlation values of all the numerical qualities and used a heatmap to visualize how highly or lowly correlated certain values were to one another. This visualization helped us understand that all the individual qualities didn’t necessarily highly correlate with the quality rating, but combined values may have. The heatmap seemed to suggest that alcohol content had the highest correlation value versus quality, but it seemed more likely that that was only one aspect of the linear model. As for the review dataset, it was difficult to really visualize the data, so we plotted a histogram of the review score distribution to help us understand the relative distribution of the wine scores, which helped us in setting our cutoff point for our models’ binary output of 0 being a “bad” wine and 1 being a “good” wine. However, this arbitrary choice of good and bad wine cutoffs likely could have affected the outcome of our data.\n",
    "\n",
    "\n",
    "As for the ethics of our datasets and our predictive models, there were no real ethical issues that arose from using our numerical dataset, as it only provided wines and their qualities, so no real issues with privacy or ethicality arose from that data or its linear model. For our review dataset, it was mostly the same case, however the data did contain info on the reviewers, such as their twitter handles, so in the interest of their privacy, and also because they were unneeded, we removed any and all data from the wine reviews that wasn’t the score or the review itself. This change not only removed any possible ethical issues, but also ensured the accuracy of our TF-IDF sentiment analysis.\n",
    "After using a linear regression model for our numerical qualities dataset, we had an overall accuracy of about .72, or 72% Compare this value with the accuracy of the TF-IDF sentiment analysis model, which had an overall accuracy of about .82 or 82%\n",
    "Comparing these accuracy values, the TF-IDF model was more accurate overall. Possible explanations for this may be due to correlation not being very strong in the red/white wine data or perhaps because sentiment analysis makes more sense as ratings are subjective.\n"
   ]
  },
  {
   "cell_type": "markdown",
   "metadata": {},
   "source": [
    "## Conclusions/ Discussion"
   ]
  },
  {
   "cell_type": "markdown",
   "metadata": {
    "collapsed": true
   },
   "source": [
    "\n",
    "In conclusion, the results of our project seem to indicate that sentiment analysis proved a more accurate model than the linear regression based on wine qualities, which seems to agree with our hypothesis. This result seems to make sense, as the quantification of what makes a wine “good” is a rather subjective field. Professionals like sommeliers, or wine tasters, spend their whole careers studying and quantifying the rather subjective taste and qualities of wine as to fit a “model” of wine quality versus all these characteristics of the wine. While our linear model wasn’t immensely accurate in predicting wine quality, it was very close, which seems to indicate that simple aggregation and analysis of the wine qualities can’t perfectly predict the wine “goodness”, at least not using a dataset of this size. Perhaps if we utilized more training data our linear model could’ve rivaled the TF-IDF model in prediction accuracy, but otherwise for this project it seems that the sentiment analysis won out over linear regression. In essence, this outcome made relative sense because wine reviewers tend to use qualitative descriptors like “fruity” or “nutty” to quantify qualities of the wine, then assess the wine’s total “goodness” before giving it a score out of 100 points. This use of descriptive words to describe a wines qualities seems very similar to a sentiment analysis model like TF-IDF, so it would seem logical that this model ended up more accurate. However, a likely cause that the TF-IDF was a more accurate model could’ve simply been that our dataset for the sentiment analysis, some 300000 reviews made by wine critics, was much larger than the 6500 or so values for the qualities dataset. This could’ve resulted in a more accurate model due to simply more data to train from, meaning our TF-IDF model could’ve only been so accurate because it had more data to read from. \n",
    "\n",
    "However, when it came to cleaning and setting up the data for out training models, there were a few decisions we had to make as data scientists to help set up our model to try and display our hypothesis. For example, during our preprocessing phase for both the numerical and review datasets, we arbitrarily chose a quality value of 6 or higher as a “good” wine for the numerical dataset, and for the review dataset we chose 89 or higher. Our reasoning for this was that, given our somewhat limited dataset, we as data scientists had to make the decision to limit the representation of our data to improve the quality of our models. Our reasoning for choosing the 6 and 89 as arbitrary “good” values was based on the sample distribution of the scores in our dataset. In order to provide more fair amounts of good or bad reviews from our data for the models to train off of while also improving the accuracy of the predictive models, we had to choose these arbitrary values to “fix” our datasets with. In essence, the outcome of our models could’ve been skewed by the fact we used these arbitrary values to to quantify our data. Knowing this, coupled with the outcome of our predictive training models, it would seem that while our hypothesis was ultimately supported by our data, it could have been the result of the methods we employed to aggregate and process the data, as our arbitrary choice of what rating a wine must have to be “good” could have changed the relative accuracy of our trained models. A possible fix could be to normalize the scores between the two datasets as to hopefully remove any possible discrepancies that could’ve become present in our final models, or even train our models off of larger datasets to improve their relative accuracy.\n"
   ]
  }
 ],
 "metadata": {
  "kernelspec": {
   "display_name": "Python 3",
   "language": "python",
   "name": "python3"
  },
  "language_info": {
   "codemirror_mode": {
    "name": "ipython",
    "version": 3
   },
   "file_extension": ".py",
   "mimetype": "text/x-python",
   "name": "python",
   "nbconvert_exporter": "python",
   "pygments_lexer": "ipython3",
   "version": "3.6.3"
  }
 },
 "nbformat": 4,
 "nbformat_minor": 2
}
